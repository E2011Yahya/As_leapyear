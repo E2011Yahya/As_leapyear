{
 "cells": [
  {
   "cell_type": "code",
   "execution_count": 11,
   "metadata": {},
   "outputs": [
    {
     "name": "stdin",
     "output_type": "stream",
     "text": [
      "write a year: 2400\n"
     ]
    },
    {
     "name": "stdout",
     "output_type": "stream",
     "text": [
      "2400 is a leap year\n"
     ]
    }
   ],
   "source": [
    "\n",
    "year = int(input(\"write a year:\"))\n",
    "\n",
    "if year % 100 == 0 and year % 400 != 0:\n",
    "    print(year, \"is not a leap year\")\n",
    "    \n",
    "elif year % 4 == 0:\n",
    "    print(year, \"is a leap year\")\n",
    "    \n",
    "else:\n",
    "    print(year, \"is not a yeap year\")\n"
   ]
  },
  {
   "cell_type": "code",
   "execution_count": null,
   "metadata": {},
   "outputs": [],
   "source": []
  }
 ],
 "metadata": {
  "kernelspec": {
   "display_name": "Python 3",
   "language": "python",
   "name": "python3"
  },
  "language_info": {
   "codemirror_mode": {
    "name": "ipython",
    "version": 3
   },
   "file_extension": ".py",
   "mimetype": "text/x-python",
   "name": "python",
   "nbconvert_exporter": "python",
   "pygments_lexer": "ipython3",
   "version": "3.7.6"
  }
 },
 "nbformat": 4,
 "nbformat_minor": 4
}
